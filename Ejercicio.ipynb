{
 "cells": [
  {
   "cell_type": "code",
   "execution_count": 1,
   "metadata": {},
   "outputs": [
    {
     "name": "stderr",
     "output_type": "stream",
     "text": [
      "C:\\Users\\brian\\AppData\\Roaming\\Python\\Python37\\site-packages\\statsmodels\\tools\\_testing.py:19: FutureWarning: pandas.util.testing is deprecated. Use the functions in the public API at pandas.testing instead.\n",
      "  import pandas.util.testing as tm\n"
     ]
    }
   ],
   "source": [
    "import numpy as np\n",
    "import pandas as pd\n",
    "import matplotlib.pyplot as plt\n",
    "import seaborn as sns"
   ]
  },
  {
   "cell_type": "code",
   "execution_count": 2,
   "metadata": {},
   "outputs": [],
   "source": [
    "from sklearn.metrics import accuracy_score,mean_squared_error\n",
    "from sklearn.metrics import r2_score, mean_squared_error, mean_absolute_error, accuracy_score\n",
    "from sklearn.preprocessing import PolynomialFeatures"
   ]
  },
  {
   "cell_type": "code",
   "execution_count": 3,
   "metadata": {},
   "outputs": [],
   "source": [
    "from sklearn.svm import SVR\n",
    "from sklearn.svm import LinearSVR"
   ]
  },
  {
   "cell_type": "code",
   "execution_count": 4,
   "metadata": {},
   "outputs": [],
   "source": [
    "from sklearn.linear_model import LinearRegression\n",
    "from sklearn.model_selection import train_test_split, GridSearchCV,KFold"
   ]
  },
  {
   "cell_type": "code",
   "execution_count": 42,
   "metadata": {},
   "outputs": [],
   "source": [
    "x_testeo_final= pd.read_csv(r\"X_test.csv\")"
   ]
  },
  {
   "cell_type": "code",
   "execution_count": 43,
   "metadata": {},
   "outputs": [
    {
     "data": {
      "text/plain": [
       "(20, 1)"
      ]
     },
     "execution_count": 43,
     "metadata": {},
     "output_type": "execute_result"
    }
   ],
   "source": [
    "x_testeo_final.shape"
   ]
  },
  {
   "cell_type": "code",
   "execution_count": 44,
   "metadata": {},
   "outputs": [],
   "source": [
    "xy= pd.read_csv(r\"Xy_train.csv\")"
   ]
  },
  {
   "cell_type": "code",
   "execution_count": 45,
   "metadata": {},
   "outputs": [
    {
     "data": {
      "text/plain": [
       "(100, 2)"
      ]
     },
     "execution_count": 45,
     "metadata": {},
     "output_type": "execute_result"
    }
   ],
   "source": [
    "xy.shape"
   ]
  },
  {
   "cell_type": "code",
   "execution_count": 46,
   "metadata": {},
   "outputs": [],
   "source": [
    "x= xy[['X']]\n",
    "y = xy['y']"
   ]
  },
  {
   "cell_type": "markdown",
   "metadata": {},
   "source": [
    "# Linear Regression - Linear Features"
   ]
  },
  {
   "cell_type": "code",
   "execution_count": 59,
   "metadata": {},
   "outputs": [],
   "source": [
    "kf = KFold(n_splits=10,shuffle=True, random_state=30)\n",
    "kf.get_n_splits(x)\n",
    "mean_squared_error_lr=[]\n",
    "r2_score_lr=[]\n",
    "mean_abs_error_lr = []\n",
    "lrcoefs=[]\n",
    "\n",
    "## Aplicamos k-fold cross-validation\n",
    "for train_index, test_index in kf.split(x):\n",
    "    \n",
    "    x_train, x_test = x.loc[train_index], x.loc[test_index]\n",
    "    y_train, y_test = y.loc[train_index], y.loc[test_index]\n",
    "    \n",
    "    parameters = {'fit_intercept' : [False, True]}\n",
    "    \n",
    "    lr= LinearRegression(fit_intercept= True)\n",
    "    lr.fit(x_train,y_train)\n",
    "    ypred=lr.predict(x_test)\n",
    "    \n",
    "    gs = GridSearchCV(lr, param_grid=parameters, refit=True, scoring=\"neg_mean_squared_error\")\n",
    "    \n",
    "    r2_score_lr.append(r2_score(y_test, ypred))\n",
    "    mean_squared_error_lr.append(mean_squared_error(y_test, ypred))\n",
    "    mean_abs_error_lr.append(mean_absolute_error(y_test, ypred))\n",
    "    lrcoefs.append((lr.coef_[0], lr.intercept_))\n",
    "    \n",
    "mse_lr = pd.Series(mean_squared_error_lr).mean()\n",
    "mae_lr = pd.Series(mean_abs_error_lr).mean()\n",
    "r2_lr = pd.Series(r2_score_lr).mean()"
   ]
  },
  {
   "cell_type": "code",
   "execution_count": 60,
   "metadata": {},
   "outputs": [],
   "source": [
    "results = pd.DataFrame([[mse_lr, mae_lr, r2_lr]], columns=['mse', 'mae', 'r2'])\n",
    "results.index = ['Linear Regression']"
   ]
  },
  {
   "cell_type": "code",
   "execution_count": 61,
   "metadata": {},
   "outputs": [
    {
     "data": {
      "text/html": [
       "<div>\n",
       "<style scoped>\n",
       "    .dataframe tbody tr th:only-of-type {\n",
       "        vertical-align: middle;\n",
       "    }\n",
       "\n",
       "    .dataframe tbody tr th {\n",
       "        vertical-align: top;\n",
       "    }\n",
       "\n",
       "    .dataframe thead th {\n",
       "        text-align: right;\n",
       "    }\n",
       "</style>\n",
       "<table border=\"1\" class=\"dataframe\">\n",
       "  <thead>\n",
       "    <tr style=\"text-align: right;\">\n",
       "      <th></th>\n",
       "      <th>mse</th>\n",
       "      <th>mae</th>\n",
       "      <th>r2</th>\n",
       "    </tr>\n",
       "  </thead>\n",
       "  <tbody>\n",
       "    <tr>\n",
       "      <th>Linear Regression</th>\n",
       "      <td>3.619663</td>\n",
       "      <td>1.453351</td>\n",
       "      <td>0.208754</td>\n",
       "    </tr>\n",
       "  </tbody>\n",
       "</table>\n",
       "</div>"
      ],
      "text/plain": [
       "                        mse       mae        r2\n",
       "Linear Regression  3.619663  1.453351  0.208754"
      ]
     },
     "execution_count": 61,
     "metadata": {},
     "output_type": "execute_result"
    }
   ],
   "source": [
    "results"
   ]
  },
  {
   "cell_type": "code",
   "execution_count": 62,
   "metadata": {},
   "outputs": [
    {
     "data": {
      "text/plain": [
       "LinearRegression()"
      ]
     },
     "execution_count": 62,
     "metadata": {},
     "output_type": "execute_result"
    }
   ],
   "source": [
    "# Dejo fiteado un modelo para graficar posteriormente\n",
    "x_train, x_test, y_train, y_test = train_test_split(x, y, test_size=0.2, random_state=30)\n",
    "lr= LinearRegression(fit_intercept= True)\n",
    "lr.fit(x_train,y_train)"
   ]
  },
  {
   "cell_type": "code",
   "execution_count": 63,
   "metadata": {},
   "outputs": [
    {
     "data": {
      "text/plain": [
       "Text(0.0, 1.0, 'Linear Regression')"
      ]
     },
     "execution_count": 63,
     "metadata": {},
     "output_type": "execute_result"
    },
    {
     "data": {
      "image/png": "[encoded data removed]",
      "text/plain": [
       "<Figure size 432x288 with 1 Axes>"
      ]
     },
     "metadata": {
      "needs_background": "light"
     },
     "output_type": "display_data"
    }
   ],
   "source": [
    "# Grafico todas las curvas generadas en el cross validation:\n",
    "ax1 = plt.scatter(x, y, label='Real_Data')\n",
    "i=0\n",
    "for m, b in lrcoefs:\n",
    "    xi = np.arange(0, 11, 1)\n",
    "    ax2, = plt.plot(xi, xi*m + b , c=\"r\")\n",
    "    i+=1\n",
    "ax2.set_label('All Linear Regression from Cross Validation')\n",
    "plt.legend() \n",
    "plt.title(\"Linear Regression\", fontsize=18, loc='left', pad=10)"
   ]
  },
  {
   "cell_type": "markdown",
   "metadata": {},
   "source": [
    "# Linear Regression - Polinomial Features"
   ]
  },
  {
   "cell_type": "markdown",
   "metadata": {},
   "source": [
    "Often, the input features for a predictive modeling task interact in unexpected and often nonlinear ways.\n",
    "\n",
    "These interactions can be identified and modeled by a learning algorithm. \n",
    "\n",
    "**Another approach is to engineer new features that expose these interactions and see if they improve model performance.**\n",
    "\n",
    "`En nuestro caso pudimos observar que la data real sigue una distribución polinómica, que en principio pareciera ser` $y=x^3$\n",
    "\n",
    "These features are called interaction and polynomial features and allow the use of simpler modeling algorithms.\n",
    "\n",
    "Some of the complexity of interpreting the input variables and their relationships **is pushed back to the data preparation stage.**"
   ]
  },
  {
   "cell_type": "code",
   "execution_count": 64,
   "metadata": {},
   "outputs": [],
   "source": [
    "x_train, x_test, y_train, y_test = train_test_split(x, y, test_size=0.2, random_state=48)\n",
    "\n",
    "grad_poly = [2, 3, 4, 5]\n",
    "\n",
    "mean_squared_error_lr_poly=[]\n",
    "r2_score_lr_poly=[]\n",
    "mean_abs_error_lr_poly = []\n",
    "\n",
    "for grad in grad_poly:\n",
    "    x_train_poly = PolynomialFeatures(grad).fit_transform(x_train)\n",
    "    x_test_poly = PolynomialFeatures(grad).fit_transform(x_test)\n",
    "    \n",
    "    lr_poly = LinearRegression() \n",
    "    lr_poly.fit(x_train_poly,y_train)   \n",
    "    predicciones = lr_poly.predict(x_test_poly)  \n",
    "    \n",
    "    r2_score_lr_poly.append(r2_score(y_test, predicciones))   \n",
    "    mean_squared_error_lr_poly.append(mean_squared_error(y_test, predicciones))\n",
    "    mean_abs_error_lr_poly.append(mean_absolute_error(y_test, predicciones))\n"
   ]
  },
  {
   "cell_type": "code",
   "execution_count": 65,
   "metadata": {},
   "outputs": [
    {
     "name": "stdout",
     "output_type": "stream",
     "text": [
      "Mejor grado de polinomio: \n",
      "\tSegún r2_score: \tg=4\n",
      "\tSegún mse: \t\tg=4\n",
      "\tSegún mae: \t\tg=4\n"
     ]
    }
   ],
   "source": [
    "best_g_mse = grad_poly[np.where(mean_squared_error_lr_poly==min(mean_squared_error_lr_poly))[0][0]]\n",
    "best_g_mae = grad_poly[np.where(mean_abs_error_lr_poly==min(mean_abs_error_lr_poly))[0][0]]\n",
    "best_g_r2 = grad_poly[np.where(r2_score_lr_poly==max(r2_score_lr_poly))[0][0]]\n",
    "\n",
    "print(f'Mejor grado de polinomio: \\n\\\n",
    "\\tSegún r2_score: \\tg={best_g_r2}\\n\\\n",
    "\\tSegún mse: \\t\\tg={best_g_mse}\\n\\\n",
    "\\tSegún mae: \\t\\tg={best_g_mae}')"
   ]
  },
  {
   "cell_type": "code",
   "execution_count": 66,
   "metadata": {},
   "outputs": [],
   "source": [
    "# refit model with degree = 4\n",
    "x_train_poly = PolynomialFeatures(4).fit_transform(x_train)\n",
    "x_test_poly = PolynomialFeatures(4).fit_transform(x_test)\n",
    "\n",
    "lr_poly = LinearRegression() \n",
    "lr_poly.fit(x_train_poly,y_train)   \n",
    "predicciones = lr_poly.predict(x_test_poly)  \n",
    "\n",
    "mse_lr_poly = mean_squared_error(y_test, predicciones)\n",
    "mae_lr_poly = mean_absolute_error(y_test, predicciones)\n",
    "r2_lr_poly = r2_score(y_test, predicciones)"
   ]
  },
  {
   "cell_type": "code",
   "execution_count": 67,
   "metadata": {},
   "outputs": [],
   "source": [
    "previuos_indexes = results.index"
   ]
  },
  {
   "cell_type": "code",
   "execution_count": 68,
   "metadata": {},
   "outputs": [],
   "source": [
    "new_indexes = previuos_indexes.append(pd.Index(['Linear Regression - Polynomic ft']))"
   ]
  },
  {
   "cell_type": "code",
   "execution_count": 69,
   "metadata": {},
   "outputs": [],
   "source": [
    "results = results.append({'mse':mse_lr_poly, 'mae':mae_lr_poly, 'r2':r2_lr_poly}, ignore_index=True)\n",
    "results.index = new_indexes"
   ]
  },
  {
   "cell_type": "code",
   "execution_count": 70,
   "metadata": {
    "scrolled": true
   },
   "outputs": [
    {
     "data": {
      "text/html": [
       "<div>\n",
       "<style scoped>\n",
       "    .dataframe tbody tr th:only-of-type {\n",
       "        vertical-align: middle;\n",
       "    }\n",
       "\n",
       "    .dataframe tbody tr th {\n",
       "        vertical-align: top;\n",
       "    }\n",
       "\n",
       "    .dataframe thead th {\n",
       "        text-align: right;\n",
       "    }\n",
       "</style>\n",
       "<table border=\"1\" class=\"dataframe\">\n",
       "  <thead>\n",
       "    <tr style=\"text-align: right;\">\n",
       "      <th></th>\n",
       "      <th>mse</th>\n",
       "      <th>mae</th>\n",
       "      <th>r2</th>\n",
       "    </tr>\n",
       "  </thead>\n",
       "  <tbody>\n",
       "    <tr>\n",
       "      <th>Linear Regression</th>\n",
       "      <td>3.619663</td>\n",
       "      <td>1.453351</td>\n",
       "      <td>0.208754</td>\n",
       "    </tr>\n",
       "    <tr>\n",
       "      <th>Linear Regression - Polynomic ft</th>\n",
       "      <td>0.881316</td>\n",
       "      <td>0.691607</td>\n",
       "      <td>0.912623</td>\n",
       "    </tr>\n",
       "  </tbody>\n",
       "</table>\n",
       "</div>"
      ],
      "text/plain": [
       "                                       mse       mae        r2\n",
       "Linear Regression                 3.619663  1.453351  0.208754\n",
       "Linear Regression - Polynomic ft  0.881316  0.691607  0.912623"
      ]
     },
     "execution_count": 70,
     "metadata": {},
     "output_type": "execute_result"
    }
   ],
   "source": [
    "results"
   ]
  },
  {
   "cell_type": "code",
   "execution_count": 71,
   "metadata": {},
   "outputs": [
    {
     "data": {
      "text/plain": [
       "(100, 5)"
      ]
     },
     "execution_count": 71,
     "metadata": {},
     "output_type": "execute_result"
    }
   ],
   "source": [
    "np.shape(PolynomialFeatures(4).fit_transform(x))"
   ]
  },
  {
   "cell_type": "code",
   "execution_count": 72,
   "metadata": {},
   "outputs": [
    {
     "data": {
      "text/plain": [
       "array([ 1.        ,  2.27336022,  5.16816671, 11.74910464, 26.70994715])"
      ]
     },
     "execution_count": 72,
     "metadata": {},
     "output_type": "execute_result"
    }
   ],
   "source": [
    "PolynomialFeatures(4).fit_transform(x)[0]"
   ]
  },
  {
   "cell_type": "code",
   "execution_count": 73,
   "metadata": {},
   "outputs": [
    {
     "data": {
      "text/html": [
       "<div>\n",
       "<style scoped>\n",
       "    .dataframe tbody tr th:only-of-type {\n",
       "        vertical-align: middle;\n",
       "    }\n",
       "\n",
       "    .dataframe tbody tr th {\n",
       "        vertical-align: top;\n",
       "    }\n",
       "\n",
       "    .dataframe thead th {\n",
       "        text-align: right;\n",
       "    }\n",
       "</style>\n",
       "<table border=\"1\" class=\"dataframe\">\n",
       "  <thead>\n",
       "    <tr style=\"text-align: right;\">\n",
       "      <th></th>\n",
       "      <th>bias</th>\n",
       "      <th>X</th>\n",
       "      <th>X^2</th>\n",
       "      <th>X^3</th>\n",
       "      <th>X^4</th>\n",
       "    </tr>\n",
       "  </thead>\n",
       "  <tbody>\n",
       "    <tr>\n",
       "      <th>0</th>\n",
       "      <td>1.0</td>\n",
       "      <td>0.050223</td>\n",
       "      <td>0.002522</td>\n",
       "      <td>0.000127</td>\n",
       "      <td>0.000006</td>\n",
       "    </tr>\n",
       "    <tr>\n",
       "      <th>1</th>\n",
       "      <td>1.0</td>\n",
       "      <td>0.097121</td>\n",
       "      <td>0.009433</td>\n",
       "      <td>0.000916</td>\n",
       "      <td>0.000089</td>\n",
       "    </tr>\n",
       "    <tr>\n",
       "      <th>2</th>\n",
       "      <td>1.0</td>\n",
       "      <td>0.582026</td>\n",
       "      <td>0.338754</td>\n",
       "      <td>0.197164</td>\n",
       "      <td>0.114754</td>\n",
       "    </tr>\n",
       "    <tr>\n",
       "      <th>3</th>\n",
       "      <td>1.0</td>\n",
       "      <td>0.680877</td>\n",
       "      <td>0.463593</td>\n",
       "      <td>0.315650</td>\n",
       "      <td>0.214919</td>\n",
       "    </tr>\n",
       "    <tr>\n",
       "      <th>4</th>\n",
       "      <td>1.0</td>\n",
       "      <td>0.808716</td>\n",
       "      <td>0.654022</td>\n",
       "      <td>0.528919</td>\n",
       "      <td>0.427745</td>\n",
       "    </tr>\n",
       "    <tr>\n",
       "      <th>...</th>\n",
       "      <td>...</td>\n",
       "      <td>...</td>\n",
       "      <td>...</td>\n",
       "      <td>...</td>\n",
       "      <td>...</td>\n",
       "    </tr>\n",
       "    <tr>\n",
       "      <th>95</th>\n",
       "      <td>1.0</td>\n",
       "      <td>9.376730</td>\n",
       "      <td>87.923058</td>\n",
       "      <td>824.430737</td>\n",
       "      <td>7730.464086</td>\n",
       "    </tr>\n",
       "    <tr>\n",
       "      <th>96</th>\n",
       "      <td>1.0</td>\n",
       "      <td>9.418029</td>\n",
       "      <td>88.699264</td>\n",
       "      <td>835.372207</td>\n",
       "      <td>7867.559381</td>\n",
       "    </tr>\n",
       "    <tr>\n",
       "      <th>97</th>\n",
       "      <td>1.0</td>\n",
       "      <td>9.488812</td>\n",
       "      <td>90.037544</td>\n",
       "      <td>854.349285</td>\n",
       "      <td>8106.759335</td>\n",
       "    </tr>\n",
       "    <tr>\n",
       "      <th>98</th>\n",
       "      <td>1.0</td>\n",
       "      <td>9.661041</td>\n",
       "      <td>93.335715</td>\n",
       "      <td>901.720178</td>\n",
       "      <td>8711.555692</td>\n",
       "    </tr>\n",
       "    <tr>\n",
       "      <th>99</th>\n",
       "      <td>1.0</td>\n",
       "      <td>9.728298</td>\n",
       "      <td>94.639782</td>\n",
       "      <td>920.684009</td>\n",
       "      <td>8956.688421</td>\n",
       "    </tr>\n",
       "  </tbody>\n",
       "</table>\n",
       "<p>100 rows × 5 columns</p>\n",
       "</div>"
      ],
      "text/plain": [
       "    bias         X        X^2         X^3          X^4\n",
       "0    1.0  0.050223   0.002522    0.000127     0.000006\n",
       "1    1.0  0.097121   0.009433    0.000916     0.000089\n",
       "2    1.0  0.582026   0.338754    0.197164     0.114754\n",
       "3    1.0  0.680877   0.463593    0.315650     0.214919\n",
       "4    1.0  0.808716   0.654022    0.528919     0.427745\n",
       "..   ...       ...        ...         ...          ...\n",
       "95   1.0  9.376730  87.923058  824.430737  7730.464086\n",
       "96   1.0  9.418029  88.699264  835.372207  7867.559381\n",
       "97   1.0  9.488812  90.037544  854.349285  8106.759335\n",
       "98   1.0  9.661041  93.335715  901.720178  8711.555692\n",
       "99   1.0  9.728298  94.639782  920.684009  8956.688421\n",
       "\n",
       "[100 rows x 5 columns]"
      ]
     },
     "execution_count": 73,
     "metadata": {},
     "output_type": "execute_result"
    }
   ],
   "source": [
    "# Nuevas Features creadas a partir de la transformación polinómica.\n",
    "polinomical_ft = pd.DataFrame(PolynomialFeatures(4).fit_transform(x))\n",
    "polinomical_ft.columns = ['bias','X', 'X^2', 'X^3', 'X^4']\n",
    "polinomical_ft.sort_values(by='X').reset_index(drop=True)"
   ]
  },
  {
   "cell_type": "code",
   "execution_count": 74,
   "metadata": {},
   "outputs": [],
   "source": [
    "def polinomical_degree_4(x, lr_coef_):\n",
    "    lr_poly = lr_coef_[0] + (x)*lr_coef_[1] + (x**2)*lr_coef_[2] + (x**3)*lr_coef_[3] + (x**4)*lr_coef_[4]\n",
    "    return lr_poly"
   ]
  },
  {
   "cell_type": "code",
   "execution_count": 76,
   "metadata": {},
   "outputs": [],
   "source": [
    "# Results using polinomial function:\n",
    "x_t = x_testeo_final.sort_values(by='X')\n",
    "lr_poly_pred = polinomical_degree_4(x_t, lr_poly.coef_)"
   ]
  },
  {
   "cell_type": "code",
   "execution_count": 77,
   "metadata": {},
   "outputs": [
    {
     "data": {
      "text/plain": [
       "array([[0.46352257, 2.38936474, 5.19314837, 5.29848133, 5.30471683,\n",
       "        5.28487035, 4.52239637, 4.34212711, 3.89120244, 3.87852491,\n",
       "        3.88132156, 3.88312589, 3.8993814 , 3.9359071 , 4.32756231,\n",
       "        5.99355136, 7.10290357, 7.7870859 , 9.58774612, 9.76350647]])"
      ]
     },
     "execution_count": 77,
     "metadata": {},
     "output_type": "execute_result"
    }
   ],
   "source": [
    "lr_poly_pred.to_numpy().reshape(1, len(x_t))"
   ]
  },
  {
   "cell_type": "code",
   "execution_count": 78,
   "metadata": {},
   "outputs": [
    {
     "data": {
      "text/plain": [
       "array([0.24948657, 2.17532874, 4.97911237, 5.08444533, 5.09068083,\n",
       "       5.07083435, 4.30836037, 4.12809111, 3.67716644, 3.66448891,\n",
       "       3.66728556, 3.66908989, 3.68534539, 3.7218711 , 4.11352631,\n",
       "       5.77951535, 6.88886757, 7.5730499 , 9.37371012, 9.54947046])"
      ]
     },
     "execution_count": 78,
     "metadata": {},
     "output_type": "execute_result"
    }
   ],
   "source": [
    "# Results using the predict method:\n",
    "x_t_poly = PolynomialFeatures(4).fit_transform(x_t)\n",
    "y_p = lr_poly.predict(x_t_poly)\n",
    "y_p"
   ]
  },
  {
   "cell_type": "markdown",
   "metadata": {},
   "source": [
    "**La curva creada con una función a partir de los coeficientes es un poco distinta a la creada internamente por la herramienta, por lo tanto los resultados están un poco desfasados**"
   ]
  },
  {
   "cell_type": "code",
   "execution_count": 112,
   "metadata": {},
   "outputs": [],
   "source": [
    "xi = x['X'].sort_values().values"
   ]
  },
  {
   "cell_type": "code",
   "execution_count": 75,
   "metadata": {
    "scrolled": true
   },
   "outputs": [],
   "source": [
    "# Curva a partir de función polinómica\n",
    "lr_poly_results = polinomical_degree_4(xi, lr_poly.coef_)"
   ]
  },
  {
   "cell_type": "code",
   "execution_count": 79,
   "metadata": {},
   "outputs": [
    {
     "data": {
      "image/png": "[encoded data removed]",
      "text/plain": [
       "<Figure size 1152x576 with 1 Axes>"
      ]
     },
     "metadata": {
      "needs_background": "light"
     },
     "output_type": "display_data"
    }
   ],
   "source": [
    "ax, fig = plt.subplots(figsize=(16,8))\n",
    "\n",
    "plt.scatter(x, y, label='Real Data') ;\n",
    "plt.plot(xi, lr_poly_results, c='r', label='Fit curve with func');\n",
    "plt.plot(xi, lr_poly.predict(PolynomialFeatures(4).fit_transform(xi.reshape(-1, 1))), c='b', label='Fit curve with predict');\n",
    "\n",
    "plt.scatter(x_t, lr_poly_pred, label='Predicted Values', marker='*', color='violet', s=300, edgecolors='k')\n",
    "plt.scatter(x_t, y_p, label='Predicted Values', marker='<', color='b', s=100, edgecolors='k')\n",
    "\n",
    "\n",
    "plt.title('Linear Regression - Polynomial Features', fontsize=16, loc='left');\n",
    "plt.legend();"
   ]
  },
  {
   "cell_type": "markdown",
   "metadata": {},
   "source": [
    "**Al inputar al modelo de regresión lineal con features polinómicas obtenemos una regresión polinómica. Donde cada coeficiente de la regresión lineal corresponde a lo que acompaña a los grados de la x.**"
   ]
  },
  {
   "cell_type": "markdown",
   "metadata": {},
   "source": [
    "# SVR - Polynomical Features"
   ]
  },
  {
   "cell_type": "code",
   "execution_count": 82,
   "metadata": {},
   "outputs": [],
   "source": [
    "# polinomcal features degree 4:\n",
    "x_train, x_test, y_train, y_test = train_test_split(x, y, test_size=0.2, random_state=48)\n",
    "x_train_poly = PolynomialFeatures(4).fit_transform(x_train)\n",
    "x_test_poly = PolynomialFeatures(4).fit_transform(x_test)"
   ]
  },
  {
   "cell_type": "code",
   "execution_count": 90,
   "metadata": {},
   "outputs": [],
   "source": [
    "# SVR\n",
    "svr = SVR()\n",
    "# Lista del parametro lambda (parametro 'alpha')\n",
    "parameters = {'kernel':['rbf', \"linear\"] , 'C': [0.01, 0.05, 0.1],'gamma': [0.001, 0.005]}\n",
    "# Definimos nuevamente el objeto GS con los parametros previamente definidos\n",
    "gs = GridSearchCV(svr, param_grid=parameters, refit=True)"
   ]
  },
  {
   "cell_type": "code",
   "execution_count": 91,
   "metadata": {},
   "outputs": [
    {
     "data": {
      "text/plain": [
       "GridSearchCV(estimator=SVR(),\n",
       "             param_grid={'C': [0.01, 0.05, 0.1], 'gamma': [0.001, 0.005],\n",
       "                         'kernel': ['rbf', 'linear']})"
      ]
     },
     "execution_count": 91,
     "metadata": {},
     "output_type": "execute_result"
    }
   ],
   "source": [
    "gs.fit(x_train_poly, y_train)"
   ]
  },
  {
   "cell_type": "code",
   "execution_count": 92,
   "metadata": {},
   "outputs": [
    {
     "data": {
      "text/plain": [
       "{'C': 0.05, 'gamma': 0.001, 'kernel': 'linear'}"
      ]
     },
     "execution_count": 92,
     "metadata": {},
     "output_type": "execute_result"
    }
   ],
   "source": [
    "gs.best_params_"
   ]
  },
  {
   "cell_type": "code",
   "execution_count": 93,
   "metadata": {},
   "outputs": [],
   "source": [
    "svr=SVR(C=0.05, gamma=0.001, kernel=\"linear\")"
   ]
  },
  {
   "cell_type": "code",
   "execution_count": 94,
   "metadata": {},
   "outputs": [
    {
     "data": {
      "text/plain": [
       "SVR(C=0.05, gamma=0.001, kernel='linear')"
      ]
     },
     "execution_count": 94,
     "metadata": {},
     "output_type": "execute_result"
    }
   ],
   "source": [
    "svr.fit(x_train_poly, y_train)"
   ]
  },
  {
   "cell_type": "code",
   "execution_count": 95,
   "metadata": {},
   "outputs": [],
   "source": [
    "ypredsvr = svr.predict(x_test_poly)"
   ]
  },
  {
   "cell_type": "code",
   "execution_count": 96,
   "metadata": {},
   "outputs": [],
   "source": [
    "r2_score_svr = r2_score(y_test, ypredsvr)\n",
    "mse_svr = mean_squared_error(y_test, ypredsvr)\n",
    "mae_svr = mean_absolute_error(y_test, ypredsvr)"
   ]
  },
  {
   "cell_type": "code",
   "execution_count": 97,
   "metadata": {},
   "outputs": [],
   "source": [
    "previuos_indexes = results.index"
   ]
  },
  {
   "cell_type": "code",
   "execution_count": 98,
   "metadata": {},
   "outputs": [],
   "source": [
    "new_indexes = previuos_indexes.append(pd.Index(['Support Vector Regression - Polynomic ft']))"
   ]
  },
  {
   "cell_type": "code",
   "execution_count": 99,
   "metadata": {},
   "outputs": [],
   "source": [
    "results = results.append({'mse':mse_svr, 'mae':mae_svr, 'r2':r2_score_svr}, ignore_index=True)\n",
    "results.index = new_indexes"
   ]
  },
  {
   "cell_type": "code",
   "execution_count": 100,
   "metadata": {
    "scrolled": true
   },
   "outputs": [
    {
     "data": {
      "text/html": [
       "<div>\n",
       "<style scoped>\n",
       "    .dataframe tbody tr th:only-of-type {\n",
       "        vertical-align: middle;\n",
       "    }\n",
       "\n",
       "    .dataframe tbody tr th {\n",
       "        vertical-align: top;\n",
       "    }\n",
       "\n",
       "    .dataframe thead th {\n",
       "        text-align: right;\n",
       "    }\n",
       "</style>\n",
       "<table border=\"1\" class=\"dataframe\">\n",
       "  <thead>\n",
       "    <tr style=\"text-align: right;\">\n",
       "      <th></th>\n",
       "      <th>mse</th>\n",
       "      <th>mae</th>\n",
       "      <th>r2</th>\n",
       "    </tr>\n",
       "  </thead>\n",
       "  <tbody>\n",
       "    <tr>\n",
       "      <th>Linear Regression</th>\n",
       "      <td>3.619663</td>\n",
       "      <td>1.453351</td>\n",
       "      <td>0.208754</td>\n",
       "    </tr>\n",
       "    <tr>\n",
       "      <th>Linear Regression - Polynomic ft</th>\n",
       "      <td>0.881316</td>\n",
       "      <td>0.691607</td>\n",
       "      <td>0.912623</td>\n",
       "    </tr>\n",
       "    <tr>\n",
       "      <th>Support Vector Regression - Polynomic ft</th>\n",
       "      <td>1.035582</td>\n",
       "      <td>0.815891</td>\n",
       "      <td>0.897328</td>\n",
       "    </tr>\n",
       "  </tbody>\n",
       "</table>\n",
       "</div>"
      ],
      "text/plain": [
       "                                               mse       mae        r2\n",
       "Linear Regression                         3.619663  1.453351  0.208754\n",
       "Linear Regression - Polynomic ft          0.881316  0.691607  0.912623\n",
       "Support Vector Regression - Polynomic ft  1.035582  0.815891  0.897328"
      ]
     },
     "execution_count": 100,
     "metadata": {},
     "output_type": "execute_result"
    }
   ],
   "source": [
    "results"
   ]
  },
  {
   "cell_type": "code",
   "execution_count": 101,
   "metadata": {},
   "outputs": [
    {
     "data": {
      "text/plain": [
       "<matplotlib.legend.Legend at 0x23d28232cf8>"
      ]
     },
     "execution_count": 101,
     "metadata": {},
     "output_type": "execute_result"
    },
    {
     "data": {
      "image/png": "[encoded data removed]",
      "text/plain": [
       "<Figure size 1152x576 with 1 Axes>"
      ]
     },
     "metadata": {
      "needs_background": "light"
     },
     "output_type": "display_data"
    }
   ],
   "source": [
    "x_t_poly = PolynomialFeatures(4).fit_transform(x_t)\n",
    "y_p = svr.predict(x_t_poly)\n",
    "\n",
    "ax, fig = plt.subplots(figsize=(16,8))\n",
    "\n",
    "plt.scatter(x, y, label='Real Data') ;\n",
    "plt.plot(xi, svr.predict(PolynomialFeatures(4).fit_transform(xi.reshape(-1, 1))), c='r', label='Fit curve svr');\n",
    "plt.scatter(x_t, y_p, label='Predicted Values', marker='o', color='violet', s=300, edgecolors='k')\n",
    "\n",
    "plt.title('Support Vector Regression - Polynomial Features', fontsize=16, loc='left');\n",
    "plt.legend()"
   ]
  },
  {
   "cell_type": "markdown",
   "metadata": {},
   "source": [
    "# All 3 models visualization"
   ]
  },
  {
   "cell_type": "code",
   "execution_count": 108,
   "metadata": {},
   "outputs": [
    {
     "data": {
      "text/plain": [
       "<matplotlib.legend.Legend at 0x23d27c1dcc0>"
      ]
     },
     "execution_count": 108,
     "metadata": {},
     "output_type": "execute_result"
    },
    {
     "data": {
      "image/png": "[encoded data removed]",
      "text/plain": [
       "<Figure size 1152x576 with 1 Axes>"
      ]
     },
     "metadata": {
      "needs_background": "light"
     },
     "output_type": "display_data"
    }
   ],
   "source": [
    "ax, fig = plt.subplots(figsize=(16,8))\n",
    "plt.scatter(x, y, label='Real Data') ;\n",
    "\n",
    "lr_linear_ax = plt.plot(xi, lr.predict(xi.reshape(-1, 1)),\n",
    "                      c='g', label='lin');\n",
    "\n",
    "lr_poly_ax = plt.plot(xi, lr_poly.predict(PolynomialFeatures(4).fit_transform(xi.reshape(-1, 1))),\n",
    "                      c='b', label='lin_poly');\n",
    "\n",
    "svr_ax = plt.plot(xi, svr.predict(PolynomialFeatures(4).fit_transform(xi.reshape(-1, 1))),\n",
    "                  c='r', label='svr');\n",
    "\n",
    "plt.title('All 3 models visualization', fontsize=30, loc='center');\n",
    "plt.legend()"
   ]
  },
  {
   "cell_type": "markdown",
   "metadata": {},
   "source": [
    "# Resultado Final utilizando el mejor método entre los 3: Regresión Lineal con Features Polinómicas."
   ]
  },
  {
   "cell_type": "code",
   "execution_count": 110,
   "metadata": {},
   "outputs": [
    {
     "data": {
      "text/plain": [
       "array([3.66448891, 3.66908989, 7.5730499 , 4.97911237, 5.09068083,\n",
       "       3.7218711 , 6.88886757, 0.24948657, 9.37371012, 5.08444533,\n",
       "       5.07083435, 3.68534539, 9.54947046, 2.17532874, 4.30836037,\n",
       "       5.77951535, 4.12809111, 3.67716644, 4.11352631, 3.66728556])"
      ]
     },
     "execution_count": 110,
     "metadata": {},
     "output_type": "execute_result"
    }
   ],
   "source": [
    "x_t_poly = PolynomialFeatures(4).fit_transform(x_testeo_final)\n",
    "results_y = lr_poly.predict(x_t_poly)\n",
    "results_y"
   ]
  },
  {
   "cell_type": "code",
   "execution_count": null,
   "metadata": {},
   "outputs": [],
   "source": []
  }
 ],
 "metadata": {
  "kernelspec": {
   "display_name": "Python 3",
   "language": "python",
   "name": "python3"
  },
  "language_info": {
   "codemirror_mode": {
    "name": "ipython",
    "version": 3
   },
   "file_extension": ".py",
   "mimetype": "text/x-python",
   "name": "python",
   "nbconvert_exporter": "python",
   "pygments_lexer": "ipython3",
   "version": "3.7.1"
  },
  "toc": {
   "base_numbering": 1,
   "nav_menu": {},
   "number_sections": false,
   "sideBar": true,
   "skip_h1_title": false,
   "title_cell": "Table of Contents",
   "title_sidebar": "Contents",
   "toc_cell": false,
   "toc_position": {},
   "toc_section_display": true,
   "toc_window_display": false
  }
 },
 "nbformat": 4,
 "nbformat_minor": 2
}
